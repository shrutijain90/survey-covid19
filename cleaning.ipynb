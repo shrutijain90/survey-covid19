{
 "cells": [
  {
   "cell_type": "code",
   "execution_count": 1,
   "metadata": {},
   "outputs": [],
   "source": [
    "import seaborn as sns\n",
    "import re\n",
    "import matplotlib.pyplot as plt\n",
    "from datetime import datetime\n",
    "import math\n",
    "import numpy as np\n",
    "import pandas as pd\n",
    "pd.set_option('display.max_columns', None)\n",
    "pd.set_option('display.max_rows', None)\n",
    "pd.options.mode.chained_assignment = None \n",
    "%matplotlib inline"
   ]
  },
  {
   "cell_type": "code",
   "execution_count": 2,
   "metadata": {},
   "outputs": [],
   "source": [
    "survey = pd.read_excel('data/Master.xlsx',\"Master\")"
   ]
  },
  {
   "cell_type": "markdown",
   "metadata": {},
   "source": [
    "# Strip spaces from beginning and end of column names, strings, standardize \"No Response\" as NaN"
   ]
  },
  {
   "cell_type": "code",
   "execution_count": 3,
   "metadata": {},
   "outputs": [],
   "source": [
    "survey.columns = survey.columns.str.strip()\n",
    "\n",
    "for col in survey.columns:\n",
    "    if survey[col].dtype == 'O':\n",
    "        survey[col] = survey[col].str.strip()\n",
    "        survey[col] = survey[col].str.replace('_',' ')\n",
    "\n",
    "survey = survey.replace('NR', np.NaN)\n",
    "survey = survey.replace('Invalid', np.NaN)"
   ]
  },
  {
   "cell_type": "code",
   "execution_count": 4,
   "metadata": {},
   "outputs": [],
   "source": [
    "survey = survey.rename(columns={\"What is your gender?\": \"Gender\", \n",
    "                                \"What is your annual household income?\": \"Income\", \n",
    "                                \"What year were you born?\": \"Age\",\n",
    "                                \"What is the zip code (i.e. postcal code) of the place you currently live in?\": \"Zipcode\", \n",
    "                                \"What is your employment status?\": \"Employment status\", \n",
    "                                \"What is your ethnicity?\": \"Ethnicity\",\n",
    "                                \"What industry are you part of?\": \"Industry\",\n",
    "                                \"What country do you currently live in?\": \"Country\"})"
   ]
  },
  {
   "cell_type": "markdown",
   "metadata": {},
   "source": [
    "# Standardize first letter capitalization"
   ]
  },
  {
   "cell_type": "code",
   "execution_count": 5,
   "metadata": {},
   "outputs": [],
   "source": [
    "survey['Employment status'] = survey['Employment status'].str.capitalize() \n",
    "survey['Gender'] = survey['Gender'].str.capitalize()\n",
    "survey['Ethnicity'] = survey['Ethnicity'].str.capitalize()\n",
    "survey['Industry'] = survey['Industry'].str.capitalize()"
   ]
  },
  {
   "cell_type": "markdown",
   "metadata": {},
   "source": [
    "# Age and Age Group variables"
   ]
  },
  {
   "cell_type": "code",
   "execution_count": 6,
   "metadata": {},
   "outputs": [],
   "source": [
    "survey['Age'] = 2020 - survey['Age']\n",
    "survey['Age group'] = pd.cut(x=survey['Age'], bins=[0, 24, 39, 54, 70, 100]).apply(str)"
   ]
  },
  {
   "cell_type": "markdown",
   "metadata": {},
   "source": [
    "# Create Dummy Variables, (Female, Male, Student, Retired)"
   ]
  },
  {
   "cell_type": "code",
   "execution_count": 7,
   "metadata": {},
   "outputs": [],
   "source": [
    "survey[['Female','Male']] = pd.get_dummies(survey['Gender'])[['Female','Male']]\n",
    "survey[['Student','Retired']] = pd.get_dummies(survey['Employment status'])[['Student','Retired']]"
   ]
  },
  {
   "cell_type": "markdown",
   "metadata": {},
   "source": [
    "# WFH? column cleaning"
   ]
  },
  {
   "cell_type": "code",
   "execution_count": 8,
   "metadata": {},
   "outputs": [],
   "source": [
    "survey['In the past 3 days, did you work from home (WFH)?'] = survey['In the past 3 days, did you work from home (WFH)?'].str.replace('home on some days','home for some days')\n",
    "survey['In the past 3 days, did you work from home (WFH)?'] = survey['In the past 3 days, did you work from home (WFH)?'].str.replace('provide an option for me to work from home','provide an option to WFH')"
   ]
  },
  {
   "cell_type": "markdown",
   "metadata": {},
   "source": [
    "# Income column cleaning"
   ]
  },
  {
   "cell_type": "code",
   "execution_count": 9,
   "metadata": {},
   "outputs": [],
   "source": [
    "survey['Income'] = survey['Income'].str.replace('Between $150,000 and $199,000','More than $150,000')\n",
    "survey['Income'] = survey['Income'].str.replace('More than $200,000','More than $150,000')\n",
    "survey['Income'] = survey['Income'].str.replace('high iii','More than $150,000')\n",
    "survey['Income'] = survey['Income'].str.replace('high ii','Between $125,000 and $149,999')\n",
    "survey['Income'] = survey['Income'].str.replace('high i','Between $100,000 and $124,999')\n",
    "survey['Income'] = survey['Income'].str.replace('middle ii','Between $75,000 and $99,999')\n",
    "survey['Income'] = survey['Income'].str.replace('middle i','Between $50,000 and $74,999')\n",
    "survey['Income'] = survey['Income'].str.replace('lower ii','Between $25,000 and $49,999')\n",
    "survey['Income'] = survey['Income'].str.replace('lower i','Less than $25,000')\n",
    "survey['Income'] = survey['Income'].str.replace('prefer not to say','Prefer not to say')\n",
    "survey['Income'] = survey['Income'].str.replace('$','$\\$$')"
   ]
  },
  {
   "cell_type": "markdown",
   "metadata": {},
   "source": [
    "# Ethnicity column cleaning"
   ]
  },
  {
   "cell_type": "code",
   "execution_count": 10,
   "metadata": {},
   "outputs": [],
   "source": [
    "survey['Ethnicity'] = survey['Ethnicity'].str.replace('White','Caucasian')\n",
    "survey['Ethnicity'] = survey['Ethnicity'].str.replace('Hispanic/latinx','Hispanic')\n",
    "survey['Ethnicity'] = survey['Ethnicity'].str.replace('Latino','Hispanic')\n",
    "survey['Ethnicity'] = survey['Ethnicity'].str.replace('Black/african american','Black')\n",
    "survey['Ethnicity'] = survey['Ethnicity'].str.replace('Caucasian, asian/asian american','Multiracial')\n",
    "survey['Ethnicity'] = survey['Ethnicity'].str.replace('Caucasian, hispanic/latinx','Multiracial')\n",
    "survey['Ethnicity'] = survey['Ethnicity'].str.replace('Asian/asian american','Asian')\n",
    "survey['Ethnicity'] = survey['Ethnicity'].str.replace('Caucasian, armenian','Multiracial')\n",
    "survey['Ethnicity'] = survey['Ethnicity'].str.replace('Asian, other','Asian')\n",
    "survey['Ethnicity'] = survey['Ethnicity'].str.replace('Caucasian, jewish','Caucasian')\n",
    "survey['Ethnicity'] = survey['Ethnicity'].str.replace('Caucasian, asian','Multiracial')\n",
    "survey['Ethnicity'] = survey['Ethnicity'].str.replace('Multiracial/asian american','Multiracial')\n",
    "survey['Ethnicity'] = survey['Ethnicity'].str.replace('Arab','Other')\n",
    "survey['Ethnicity'] = survey['Ethnicity'].str.replace('Asian, pacific islander','Asian')\n",
    "survey['Ethnicity'] = survey['Ethnicity'].str.replace('Prefer_not_to_say','Prefer not to say')\n",
    "survey['Ethnicity'] = survey['Ethnicity'].str.replace('Caucasian, other is how i prefer to identify','Other')\n",
    "survey['Ethnicity'] = survey['Ethnicity'].str.replace('Indian american','Asian')\n",
    "survey['Ethnicity'] = survey['Ethnicity'].str.replace('Jewish','Other')"
   ]
  },
  {
   "cell_type": "markdown",
   "metadata": {},
   "source": [
    "# Separate out different versions"
   ]
  },
  {
   "cell_type": "code",
   "execution_count": 11,
   "metadata": {},
   "outputs": [],
   "source": [
    "pollfish1 = survey[survey['Source']=='Pollfish1']\n",
    "pollfish2 = survey[survey['Source']=='Pollfish2']\n",
    "google1 = survey[survey['Source']=='Google1']\n",
    "google2 = survey[survey['Source']=='Google2']"
   ]
  },
  {
   "cell_type": "markdown",
   "metadata": {},
   "source": [
    "# Date time column"
   ]
  },
  {
   "cell_type": "code",
   "execution_count": 12,
   "metadata": {},
   "outputs": [],
   "source": [
    "pollfish1['TimeFinished'] = pd.to_datetime(pollfish1['TimeFinished'], format='%Y-%m-%d %H:%M:%S')\n",
    "pollfish2['TimeFinished'] = pd.to_datetime(pollfish2['TimeFinished'], format='%Y-%m-%d %H:%M:%S')\n",
    "google1['TimeFinished'] = pd.to_datetime(google1['TimeFinished'], format='%-m/%d/%Y %-I:%M:%S %p')\n",
    "google2['TimeFinished'] = pd.to_datetime(google2['TimeFinished'], format='%-m/%d/%Y %-I:%M:%S %p')"
   ]
  },
  {
   "cell_type": "code",
   "execution_count": 13,
   "metadata": {},
   "outputs": [],
   "source": [
    "google1['TimeFinished'] = pd.to_datetime(google1[\"TimeFinished\"].dt.strftime('%Y-%m-%d %H:%M:%S'))\n",
    "google2['TimeFinished'] = pd.to_datetime(google2[\"TimeFinished\"].dt.strftime('%Y-%m-%d %H:%M:%S'))"
   ]
  },
  {
   "cell_type": "markdown",
   "metadata": {},
   "source": [
    "# Mapping of scale questions"
   ]
  },
  {
   "cell_type": "code",
   "execution_count": 14,
   "metadata": {},
   "outputs": [],
   "source": [
    "google1['On a scale of 1 to 10, how reasonable do you think the public reaction is to COVID-19 now? (1 is under-reacting and 10 is overreacting)'] = google1['On a scale of 1 to 10, how reasonable do you think the public reaction is to COVID-19 now? (1 is under-reacting and 10 is overreacting)'].map({'Strongly disagree': '1', 'Disagree': '3', 'Neutral': '5', 'Agree': '7', 'Strongly agree': '9'}) \n",
    "pollfish1['On a scale of 1 to 10, how reasonable do you think the public reaction is to COVID-19 now? (1 is under-reacting and 10 is overreacting)'] = pollfish1['On a scale of 1 to 10, how reasonable do you think the public reaction is to COVID-19 now? (1 is under-reacting and 10 is overreacting)'].map({'Strongly disagree': '1', 'Disagree': '3', 'Neutral': '5', 'Agree': '7', 'Strongly agree': '9'}) \n"
   ]
  },
  {
   "cell_type": "code",
   "execution_count": 15,
   "metadata": {},
   "outputs": [],
   "source": [
    "google1['On a scale of 1 to 10, how much do you trust the government to respond to COVID-19 effectively? (1 is strongly distrust and 10 is strongly trust)'] = google1['On a scale of 1 to 10, how much do you trust the government to respond to COVID-19 effectively? (1 is strongly distrust and 10 is strongly trust)'].map({'Strongly disagree': '1', 'Disagree': '3', 'Neutral': '5', 'Agree': '7', 'Strongly agree': '9'}) \n",
    "pollfish1['On a scale of 1 to 10, how much do you trust the government to respond to COVID-19 effectively? (1 is strongly distrust and 10 is strongly trust)'] = pollfish1['On a scale of 1 to 10, how much do you trust the government to respond to COVID-19 effectively? (1 is strongly distrust and 10 is strongly trust)'].map({'Strongly disagree': '1', 'Disagree': '3', 'Neutral': '5', 'Agree': '7', 'Strongly agree': '9'}) \n"
   ]
  },
  {
   "cell_type": "markdown",
   "metadata": {},
   "source": [
    "# Combine all versions"
   ]
  },
  {
   "cell_type": "code",
   "execution_count": 16,
   "metadata": {},
   "outputs": [],
   "source": [
    "survey = pd.concat([pollfish1, pollfish2, google1, google2], ignore_index=True)"
   ]
  },
  {
   "cell_type": "markdown",
   "metadata": {},
   "source": [
    "# Checkbox questions"
   ]
  },
  {
   "cell_type": "code",
   "execution_count": 17,
   "metadata": {},
   "outputs": [],
   "source": [
    "survey = survey.rename(\n",
    "    columns={'Unnamed: 10': 'In the past 48 hours, I ' + survey['Unnamed: 10'].dropna().unique()[0].lower(),\n",
    "             'Unnamed: 11': 'In the past 48 hours, I ' + survey['Unnamed: 11'].dropna().unique()[0].lower(),\n",
    "             'Unnamed: 12': 'In the past 48 hours, I ' + survey['Unnamed: 12'].dropna().unique()[0].lower(),\n",
    "             'Unnamed: 13': 'In the past 48 hours, I ' + survey['Unnamed: 13'].dropna().unique()[0].lower(),\n",
    "             'Unnamed: 14': 'In the past 48 hours, I ' + survey['Unnamed: 14'].dropna().unique()[0].lower(),\n",
    "             'Unnamed: 15': 'In the past 48 hours, I ' + survey['Unnamed: 15'].dropna().unique()[0].lower(),\n",
    "             'Unnamed: 16': 'In the past 48 hours, I ' + survey['Unnamed: 16'].dropna().unique()[0].lower(),\n",
    "             'Unnamed: 17': 'In the past 48 hours, I ' + survey['Unnamed: 17'].dropna().unique()[0].lower(),\n",
    "             'Unnamed: 18': 'In the past 48 hours, I ' + survey['Unnamed: 18'].dropna().unique()[0].lower(),\n",
    "             'Unnamed: 19': 'In the past 48 hours, I ' + survey['Unnamed: 19'].dropna().unique()[0].lower(),\n",
    "             'Unnamed: 21': \n",
    "             'Is any of your loved ones at higher risk of COVID-19? ' + survey['Unnamed: 21'].dropna().unique()[0],\n",
    "             'Unnamed: 22': \n",
    "             'Is any of your loved ones at higher risk of COVID-19? ' + survey['Unnamed: 22'].dropna().unique()[0],\n",
    "             'Unnamed: 23': \n",
    "             'Is any of your loved ones at higher risk of COVID-19? ' + survey['Unnamed: 23'].dropna().unique()[0],\n",
    "             'Unnamed: 24': \n",
    "             'Is any of your loved ones at higher risk of COVID-19? ' + survey['Unnamed: 24'].dropna().unique()[0]\n",
    "})\n",
    "    "
   ]
  },
  {
   "cell_type": "code",
   "execution_count": 18,
   "metadata": {},
   "outputs": [],
   "source": [
    "survey = survey.drop(['In the past 48 hours, I... (check all that apply)', \n",
    "                      'Is any of your loved ones at higher risk of COVID-19? (check all that apply)'], axis=1)"
   ]
  },
  {
   "cell_type": "code",
   "execution_count": 19,
   "metadata": {},
   "outputs": [],
   "source": [
    "survey[[col for col in survey.columns if 'In the past 48 hours' in col]] = survey[[col for col in survey.columns if 'In the past 48 hours' in col]].fillna('False')\n",
    "survey[[col for col in survey.columns if 'Is any of your loved ones at higher risk of COVID-19?' in col]] = survey[[col for col in survey.columns if 'Is any of your loved ones at higher risk of COVID-19?' in col]].fillna('False')\n"
   ]
  },
  {
   "cell_type": "code",
   "execution_count": 20,
   "metadata": {},
   "outputs": [],
   "source": [
    "for col in [col for col in survey.columns if 'In the past 48 hours' in col]:\n",
    "    survey.loc[~survey[col].str.contains('False'), col] = 'True'\n",
    "    \n",
    "for col in [col for col in survey.columns if 'Is any of your loved ones at higher risk of COVID-19?' in col]:\n",
    "    survey.loc[~survey[col].str.contains('False'), col] = 'True'"
   ]
  },
  {
   "cell_type": "code",
   "execution_count": null,
   "metadata": {},
   "outputs": [],
   "source": []
  }
 ],
 "metadata": {
  "kernelspec": {
   "display_name": "Python 3",
   "language": "python",
   "name": "python3"
  },
  "language_info": {
   "codemirror_mode": {
    "name": "ipython",
    "version": 3
   },
   "file_extension": ".py",
   "mimetype": "text/x-python",
   "name": "python",
   "nbconvert_exporter": "python",
   "pygments_lexer": "ipython3",
   "version": "3.7.4"
  }
 },
 "nbformat": 4,
 "nbformat_minor": 2
}
